{
 "cells": [
  {
   "cell_type": "code",
   "execution_count": 172,
   "metadata": {},
   "outputs": [],
   "source": [
    "#AM.EN.U4CSE17328 \n",
    "#Sreenivas Jayanth Yadhati\n",
    "#S7 CSE-D"
   ]
  },
  {
   "cell_type": "code",
   "execution_count": 171,
   "metadata": {},
   "outputs": [],
   "source": [
    "import numpy as np\n",
    "import pandas as pd\n",
    "import matplotlib.pyplot as plt"
   ]
  },
  {
   "cell_type": "code",
   "execution_count": 29,
   "metadata": {},
   "outputs": [
    {
     "data": {
      "text/plain": [
       "1"
      ]
     },
     "execution_count": 29,
     "metadata": {},
     "output_type": "execute_result"
    }
   ],
   "source": [
    "#1.\n",
    "V1=np.array([1,7,2,9])\n",
    "V2=np.array([1,2,4,1])\n",
    "np.sum(V1==V2)"
   ]
  },
  {
   "cell_type": "code",
   "execution_count": 31,
   "metadata": {},
   "outputs": [
    {
     "name": "stdout",
     "output_type": "stream",
     "text": [
      "[[106 366 124]\n",
      " [181 311 342]\n",
      " [303 181 279]\n",
      " [328 380 382]\n",
      " [416 417 340]\n",
      " [291 174 377]\n",
      " [330 336 214]\n",
      " [186 390 120]\n",
      " [371 403 169]\n",
      " [402 150 120]]\n"
     ]
    }
   ],
   "source": [
    "#2.\n",
    "#a\n",
    "M=np.random.randint(69,420,(10,3))\n",
    "print(M)"
   ]
  },
  {
   "cell_type": "code",
   "execution_count": 32,
   "metadata": {},
   "outputs": [
    {
     "name": "stdout",
     "output_type": "stream",
     "text": [
      "(10, 3)\n"
     ]
    }
   ],
   "source": [
    "#b\n",
    "print(M.shape)"
   ]
  },
  {
   "cell_type": "code",
   "execution_count": 33,
   "metadata": {},
   "outputs": [
    {
     "name": "stdout",
     "output_type": "stream",
     "text": [
      "10\n"
     ]
    }
   ],
   "source": [
    "#c\n",
    "print(M.shape[0])"
   ]
  },
  {
   "cell_type": "code",
   "execution_count": 34,
   "metadata": {},
   "outputs": [
    {
     "name": "stdout",
     "output_type": "stream",
     "text": [
      "3\n"
     ]
    }
   ],
   "source": [
    "#d\n",
    "print(M.shape[1])"
   ]
  },
  {
   "cell_type": "code",
   "execution_count": 35,
   "metadata": {},
   "outputs": [
    {
     "name": "stdout",
     "output_type": "stream",
     "text": [
      "[[106 366   1]\n",
      " [181 311   1]\n",
      " [303 181   1]\n",
      " [328 380   1]\n",
      " [416 417   0]\n",
      " [291 174   0]\n",
      " [330 336   0]\n",
      " [186 390   1]\n",
      " [371 403   0]\n",
      " [402 150   1]]\n"
     ]
    }
   ],
   "source": [
    "#e\n",
    "for i in range(M.shape[0]):\n",
    "    if (M[i][0]+M[i][1])%4==0:\n",
    "        M[i][2]=1\n",
    "    else:\n",
    "        M[i][2]=0\n",
    "print(M)"
   ]
  },
  {
   "cell_type": "code",
   "execution_count": 36,
   "metadata": {},
   "outputs": [],
   "source": [
    "#3.\n",
    "data_frame=pd.DataFrame(M,columns=[\"X1\",\"X2\",\"Y\"])"
   ]
  },
  {
   "cell_type": "code",
   "execution_count": 154,
   "metadata": {},
   "outputs": [
    {
     "data": {
      "text/html": [
       "<div>\n",
       "<style scoped>\n",
       "    .dataframe tbody tr th:only-of-type {\n",
       "        vertical-align: middle;\n",
       "    }\n",
       "\n",
       "    .dataframe tbody tr th {\n",
       "        vertical-align: top;\n",
       "    }\n",
       "\n",
       "    .dataframe thead th {\n",
       "        text-align: right;\n",
       "    }\n",
       "</style>\n",
       "<table border=\"1\" class=\"dataframe\">\n",
       "  <thead>\n",
       "    <tr style=\"text-align: right;\">\n",
       "      <th></th>\n",
       "      <th>X1</th>\n",
       "      <th>X2</th>\n",
       "      <th>Y</th>\n",
       "    </tr>\n",
       "  </thead>\n",
       "  <tbody>\n",
       "    <tr>\n",
       "      <th>0</th>\n",
       "      <td>106</td>\n",
       "      <td>366</td>\n",
       "      <td>1</td>\n",
       "    </tr>\n",
       "    <tr>\n",
       "      <th>1</th>\n",
       "      <td>181</td>\n",
       "      <td>311</td>\n",
       "      <td>1</td>\n",
       "    </tr>\n",
       "    <tr>\n",
       "      <th>2</th>\n",
       "      <td>303</td>\n",
       "      <td>181</td>\n",
       "      <td>1</td>\n",
       "    </tr>\n",
       "    <tr>\n",
       "      <th>3</th>\n",
       "      <td>328</td>\n",
       "      <td>380</td>\n",
       "      <td>1</td>\n",
       "    </tr>\n",
       "  </tbody>\n",
       "</table>\n",
       "</div>"
      ],
      "text/plain": [
       "    X1   X2  Y\n",
       "0  106  366  1\n",
       "1  181  311  1\n",
       "2  303  181  1\n",
       "3  328  380  1"
      ]
     },
     "execution_count": 154,
     "metadata": {},
     "output_type": "execute_result"
    }
   ],
   "source": [
    "data_frame.head(4)"
   ]
  },
  {
   "cell_type": "code",
   "execution_count": 156,
   "metadata": {},
   "outputs": [
    {
     "data": {
      "image/png": "[encoded data removed]",
      "text/plain": [
       "<Figure size 432x288 with 1 Axes>"
      ]
     },
     "metadata": {
      "needs_background": "light"
     },
     "output_type": "display_data"
    }
   ],
   "source": [
    "#4.\n",
    "col=data_frame.Y.map({0:'b',1:'r'})\n",
    "data_frame.plot.scatter(x='X1',y='X2',c=col)\n",
    "plt.show()"
   ]
  },
  {
   "cell_type": "code",
   "execution_count": 157,
   "metadata": {},
   "outputs": [
    {
     "name": "stdout",
     "output_type": "stream",
     "text": [
      "0    67600\n",
      "1    16900\n",
      "2    14884\n",
      "3     2704\n",
      "4        1\n",
      "5    13689\n",
      "6       36\n",
      "7    41616\n",
      "8     1024\n",
      "9    63504\n",
      "dtype: int32\n"
     ]
    }
   ],
   "source": [
    "#5.\n",
    "#a\n",
    "print(np.square(data_frame['X1']-data_frame['X2']))"
   ]
  },
  {
   "cell_type": "code",
   "execution_count": 158,
   "metadata": {},
   "outputs": [
    {
     "name": "stdout",
     "output_type": "stream",
     "text": [
      "221958\n"
     ]
    }
   ],
   "source": [
    "#b\n",
    "squared_error=np.sum(np.square(data_frame['X1']-data_frame['X2']))\n",
    "print(squared_error)"
   ]
  },
  {
   "cell_type": "code",
   "execution_count": 159,
   "metadata": {},
   "outputs": [
    {
     "name": "stdout",
     "output_type": "stream",
     "text": [
      "Euclidean:  471.12418744955136\n",
      "built in:  471.12418744955136\n"
     ]
    }
   ],
   "source": [
    "#6.\n",
    "print(\"Euclidean: \",np.sqrt(squared_error))\n",
    "print(\"built in: \",np.linalg.norm(data_frame['X1']-data_frame['X2']))"
   ]
  },
  {
   "cell_type": "code",
   "execution_count": 160,
   "metadata": {},
   "outputs": [
    {
     "name": "stdout",
     "output_type": "stream",
     "text": [
      " Euclidean distance between each row of M with V : [[99 63]]\n",
      "[31.90611227 92.44457799 92.47702417 27.89265136 70.26378868 88.54942123\n",
      " 78.77182237 97.80081799 77.36924454 56.04462508]\n"
     ]
    }
   ],
   "source": [
    "#7.\n",
    "V=np.random.randint(100,size=(1,2))\n",
    "distance=np.zeros(M.shape[0])\n",
    "for i in range(M.shape[0]):\n",
    "    distance[i]=np.linalg.norm(M[i][0:2]-V)\n",
    "print(\" Euclidean distance between each row of M with V :\",V)\n",
    "print(distance)"
   ]
  },
  {
   "cell_type": "code",
   "execution_count": 161,
   "metadata": {},
   "outputs": [
    {
     "name": "stdout",
     "output_type": "stream",
     "text": [
      "[[1 2 3]\n",
      " [2 3 4]]\n",
      "\n",
      "\n",
      "[[1 2 3 6]\n",
      " [2 3 4 7]]\n"
     ]
    }
   ],
   "source": [
    "#8.\n",
    "A=np.array([[1,2,3],[2,3,4]])\n",
    "print(A)\n",
    "print(\"\\n\")\n",
    "#add column\n",
    "C=np.array([6,7])\n",
    "A=np.column_stack((A,C))\n",
    "print(A)"
   ]
  },
  {
   "cell_type": "code",
   "execution_count": 162,
   "metadata": {},
   "outputs": [
    {
     "name": "stdout",
     "output_type": "stream",
     "text": [
      "[[1 2 3 6]\n",
      " [2 3 4 7]\n",
      " [1 1 1 1]]\n"
     ]
    }
   ],
   "source": [
    "#add row\n",
    "R=np.array([1,1,1,1])\n",
    "A=np.vstack((A,R))\n",
    "print(A) "
   ]
  },
  {
   "cell_type": "code",
   "execution_count": 163,
   "metadata": {},
   "outputs": [
    {
     "name": "stdout",
     "output_type": "stream",
     "text": [
      "[[  0.           0.          98.23441352]\n",
      " [  0.           1.          56.0357029 ]\n",
      " [  0.           2.          26.68332813]\n",
      " [  0.           3.          79.0569415 ]\n",
      " [  0.           4.          73.43704787]\n",
      " [  0.           5.          11.40175425]\n",
      " [  0.           6.           4.        ]\n",
      " [  0.           7.          17.02938637]\n",
      " [  0.           8.          12.04159458]\n",
      " [  0.           9.          69.65629907]\n",
      " [  1.           0.          27.31300057]\n",
      " [  1.           1.          52.49761899]\n",
      " [  1.           2.          74.02702209]\n",
      " [  1.           3.           9.89949494]\n",
      " [  1.           4.          82.71033793]\n",
      " [  1.           5.         100.20977996]\n",
      " [  1.           6.          91.21403401]\n",
      " [  1.           7.          75.00666637]\n",
      " [  1.           8.          92.17917335]\n",
      " [  1.           9.          28.0713377 ]\n",
      " [  2.           0.          84.38009244]\n",
      " [  2.           1.          15.8113883 ]\n",
      " [  2.           2.          43.01162634]\n",
      " [  2.           3.          52.15361924]\n",
      " [  2.           4.         111.03603019]\n",
      " [  2.           5.          78.        ]\n",
      " [  2.           6.          69.0651866 ]\n",
      " [  2.           7.          52.61178575]\n",
      " [  2.           8.          79.42921377]\n",
      " [  2.           9.          65.9241989 ]\n",
      " [  3.           0.         104.73776778]\n",
      " [  3.           1.          66.03029608]\n",
      " [  3.           2.          36.49657518]\n",
      " [  3.           3.          87.46427842]\n",
      " [  3.           4.          73.02739212]\n",
      " [  3.           5.           7.07106781]\n",
      " [  3.           6.          10.77032961]\n",
      " [  3.           7.          27.01851217]\n",
      " [  3.           8.           8.06225775]\n",
      " [  3.           9.          76.36753237]\n",
      " [  4.           0.          25.23885893]\n",
      " [  4.           1.          54.74486277]\n",
      " [  4.           2.          65.4599114 ]\n",
      " [  4.           3.          21.09502311]\n",
      " [  4.           4.          57.56735186]\n",
      " [  4.           5.          84.29116205]\n",
      " [  4.           6.          76.21679605]\n",
      " [  4.           7.          62.64982043]\n",
      " [  4.           8.          73.75635566]\n",
      " [  4.           9.           3.60555128]\n",
      " [  5.           0.          10.04987562]\n",
      " [  5.           1.          65.27633568]\n",
      " [  5.           2.          81.39410298]\n",
      " [  5.           3.          22.20360331]\n",
      " [  5.           4.          70.25667228]\n",
      " [  5.           5.         102.55242562]\n",
      " [  5.           6.          94.26027795]\n",
      " [  5.           7.          79.88116173]\n",
      " [  5.           8.          92.31467922]\n",
      " [  5.           9.          22.20360331]\n",
      " [  6.           0.          61.        ]\n",
      " [  6.           1.          14.86606875]\n",
      " [  6.           2.          41.34005322]\n",
      " [  6.           3.          29.27456234]\n",
      " [  6.           4.          89.49860334]\n",
      " [  6.           5.          73.68174808]\n",
      " [  6.           6.          64.19501538]\n",
      " [  6.           7.          46.4865572 ]\n",
      " [  6.           8.          70.45565982]\n",
      " [  6.           9.          41.62931659]\n",
      " [  7.           0.          78.64477096]\n",
      " [  7.           1.          21.09502311]\n",
      " [  7.           2.          51.35172831]\n",
      " [  7.           3.          46.57252409]\n",
      " [  7.           4.         112.04463396]\n",
      " [  7.           5.          86.28441342]\n",
      " [  7.           6.          77.1038261 ]\n",
      " [  7.           7.          60.00833275]\n",
      " [  7.           8.          86.37129153]\n",
      " [  7.           9.          63.28506933]\n",
      " [  8.           0.          69.0651866 ]\n",
      " [  8.           1.           6.32455532]\n",
      " [  8.           2.          34.92849839]\n",
      " [  8.           3.          37.65634077]\n",
      " [  8.           4.          92.63368718]\n",
      " [  8.           5.          68.65857558]\n",
      " [  8.           6.          59.22837158]\n",
      " [  8.           7.          41.59326869]\n",
      " [  8.           8.          67.        ]\n",
      " [  8.           9.          48.08326112]\n",
      " [  9.           0.          63.12685641]\n",
      " [  9.           1.          98.00510191]\n",
      " [  9.           2.          91.39474821]\n",
      " [  9.           3.          76.05918748]\n",
      " [  9.           4.          10.        ]\n",
      " [  9.           5.          88.27797007]\n",
      " [  9.           6.          85.02352616]\n",
      " [  9.           7.          82.22530024]\n",
      " [  9.           8.          73.33484847]\n",
      " [  9.           9.          53.33854141]]\n"
     ]
    }
   ],
   "source": [
    "#9.\n",
    "M2=np.random.randint(100,size=(10,2))\n",
    "Dist=np.zeros((M.shape[0]*M2.shape[0],3))\n",
    "from sklearn.metrics.pairwise import euclidean_distances\n",
    "k=0\n",
    "EM=euclidean_distances(M[:,0:2],M2)\n",
    "for i in range(M.shape[0]):\n",
    "    for j in range(M2.shape[0]):\n",
    "        Dist[k][0]=i\n",
    "        Dist[k][1]=j\n",
    "        Dist[k][2]=EM[i][j]\n",
    "        k=k+1\n",
    "        \n",
    "#before sorting     \n",
    "print(Dist)"
   ]
  },
  {
   "cell_type": "code",
   "execution_count": 164,
   "metadata": {},
   "outputs": [
    {
     "name": "stdout",
     "output_type": "stream",
     "text": [
      "[[  4.           9.           3.60555128]\n",
      " [  0.           6.           4.        ]\n",
      " [  8.           1.           6.32455532]\n",
      " [  3.           5.           7.07106781]\n",
      " [  3.           8.           8.06225775]\n",
      " [  1.           3.           9.89949494]\n",
      " [  9.           4.          10.        ]\n",
      " [  5.           0.          10.04987562]\n",
      " [  3.           6.          10.77032961]\n",
      " [  0.           5.          11.40175425]\n",
      " [  0.           8.          12.04159458]\n",
      " [  6.           1.          14.86606875]\n",
      " [  2.           1.          15.8113883 ]\n",
      " [  0.           7.          17.02938637]\n",
      " [  4.           3.          21.09502311]\n",
      " [  7.           1.          21.09502311]\n",
      " [  5.           9.          22.20360331]\n",
      " [  5.           3.          22.20360331]\n",
      " [  4.           0.          25.23885893]\n",
      " [  0.           2.          26.68332813]\n",
      " [  3.           7.          27.01851217]\n",
      " [  1.           0.          27.31300057]\n",
      " [  1.           9.          28.0713377 ]\n",
      " [  6.           3.          29.27456234]\n",
      " [  8.           2.          34.92849839]\n",
      " [  3.           2.          36.49657518]\n",
      " [  8.           3.          37.65634077]\n",
      " [  6.           2.          41.34005322]\n",
      " [  8.           7.          41.59326869]\n",
      " [  6.           9.          41.62931659]\n",
      " [  2.           2.          43.01162634]\n",
      " [  6.           7.          46.4865572 ]\n",
      " [  7.           3.          46.57252409]\n",
      " [  8.           9.          48.08326112]\n",
      " [  7.           2.          51.35172831]\n",
      " [  2.           3.          52.15361924]\n",
      " [  1.           1.          52.49761899]\n",
      " [  2.           7.          52.61178575]\n",
      " [  9.           9.          53.33854141]\n",
      " [  4.           1.          54.74486277]\n",
      " [  0.           1.          56.0357029 ]\n",
      " [  4.           4.          57.56735186]\n",
      " [  8.           6.          59.22837158]\n",
      " [  7.           7.          60.00833275]\n",
      " [  6.           0.          61.        ]\n",
      " [  4.           7.          62.64982043]\n",
      " [  9.           0.          63.12685641]\n",
      " [  7.           9.          63.28506933]\n",
      " [  6.           6.          64.19501538]\n",
      " [  5.           1.          65.27633568]\n",
      " [  4.           2.          65.4599114 ]\n",
      " [  2.           9.          65.9241989 ]\n",
      " [  3.           1.          66.03029608]\n",
      " [  8.           8.          67.        ]\n",
      " [  8.           5.          68.65857558]\n",
      " [  2.           6.          69.0651866 ]\n",
      " [  8.           0.          69.0651866 ]\n",
      " [  0.           9.          69.65629907]\n",
      " [  5.           4.          70.25667228]\n",
      " [  6.           8.          70.45565982]\n",
      " [  3.           4.          73.02739212]\n",
      " [  9.           8.          73.33484847]\n",
      " [  0.           4.          73.43704787]\n",
      " [  6.           5.          73.68174808]\n",
      " [  4.           8.          73.75635566]\n",
      " [  1.           2.          74.02702209]\n",
      " [  1.           7.          75.00666637]\n",
      " [  9.           3.          76.05918748]\n",
      " [  4.           6.          76.21679605]\n",
      " [  3.           9.          76.36753237]\n",
      " [  7.           6.          77.1038261 ]\n",
      " [  2.           5.          78.        ]\n",
      " [  7.           0.          78.64477096]\n",
      " [  0.           3.          79.0569415 ]\n",
      " [  2.           8.          79.42921377]\n",
      " [  5.           7.          79.88116173]\n",
      " [  5.           2.          81.39410298]\n",
      " [  9.           7.          82.22530024]\n",
      " [  1.           4.          82.71033793]\n",
      " [  4.           5.          84.29116205]\n",
      " [  2.           0.          84.38009244]\n",
      " [  9.           6.          85.02352616]\n",
      " [  7.           5.          86.28441342]\n",
      " [  7.           8.          86.37129153]\n",
      " [  3.           3.          87.46427842]\n",
      " [  9.           5.          88.27797007]\n",
      " [  6.           4.          89.49860334]\n",
      " [  1.           6.          91.21403401]\n",
      " [  9.           2.          91.39474821]\n",
      " [  1.           8.          92.17917335]\n",
      " [  5.           8.          92.31467922]\n",
      " [  8.           4.          92.63368718]\n",
      " [  5.           6.          94.26027795]\n",
      " [  9.           1.          98.00510191]\n",
      " [  0.           0.          98.23441352]\n",
      " [  1.           5.         100.20977996]\n",
      " [  5.           5.         102.55242562]\n",
      " [  3.           0.         104.73776778]\n",
      " [  2.           4.         111.03603019]\n",
      " [  7.           4.         112.04463396]]\n"
     ]
    }
   ],
   "source": [
    "#10. after sort\n",
    "print(Dist[Dist[:,2].argsort()])"
   ]
  },
  {
   "cell_type": "code",
   "execution_count": 165,
   "metadata": {},
   "outputs": [
    {
     "name": "stdout",
     "output_type": "stream",
     "text": [
      "[[4.         9.         3.60555128]\n",
      " [0.         6.         4.        ]\n",
      " [8.         1.         6.32455532]\n",
      " [3.         5.         7.07106781]\n",
      " [3.         8.         8.06225775]]\n"
     ]
    }
   ],
   "source": [
    "#11.\n",
    "k=5\n",
    "sorted_matrix=Dist[Dist[:,2].argsort()]\n",
    "k_rows=sorted_matrix[0:k,:]\n",
    "print(k_rows)"
   ]
  },
  {
   "cell_type": "code",
   "execution_count": 166,
   "metadata": {},
   "outputs": [
    {
     "name": "stdout",
     "output_type": "stream",
     "text": [
      "0\n",
      "0\n",
      "1\n",
      "0\n",
      "0\n"
     ]
    }
   ],
   "source": [
    "#12.\n",
    "for row in range(k_rows.shape[0]):\n",
    "    ones=np.count_nonzero(k_rows[row]==1)\n",
    "    zeroes=np.count_nonzero(k_rows[row]==0)\n",
    "    if ones > zeroes:\n",
    "        print(1)\n",
    "    else:\n",
    "        print(0)"
   ]
  },
  {
   "cell_type": "code",
   "execution_count": 99,
   "metadata": {},
   "outputs": [],
   "source": [
    "#Part B :KNN Implementation\n",
    "\n",
    "#a\n",
    "from pandas import read_csv\n",
    "path='diabetes.csv'\n",
    "data=read_csv(path)"
   ]
  },
  {
   "cell_type": "code",
   "execution_count": 102,
   "metadata": {},
   "outputs": [
    {
     "name": "stdout",
     "output_type": "stream",
     "text": [
      "(768, 9)\n",
      "\n",
      "\n",
      "   Pregnancies  Glucose  BloodPressure  SkinThickness  Insulin   BMI  \\\n",
      "0            6      148             72             35        0  33.6   \n",
      "1            1       85             66             29        0  26.6   \n",
      "2            8      183             64              0        0  23.3   \n",
      "3            1       89             66             23       94  28.1   \n",
      "\n",
      "   DiabetesPedigreeFunction  Age  Outcome  \n",
      "0                     0.627   50        1  \n",
      "1                     0.351   31        0  \n",
      "2                     0.672   32        1  \n",
      "3                     0.167   21        0  \n"
     ]
    }
   ],
   "source": [
    "#(b)\n",
    "print(data.shape)\n",
    "print(\"\\n\")\n",
    "print(data.head(4))"
   ]
  },
  {
   "cell_type": "code",
   "execution_count": 103,
   "metadata": {},
   "outputs": [],
   "source": [
    "#(c)\n",
    "index=np.arange(data.shape[0])\n",
    "np.random.shuffle(index)\n",
    "\n",
    "split=round(index.shape[0]*0.8)\n",
    "training_index=index[0:split-1]\n",
    "test_index=index[split:]\n",
    "training_data=data.iloc[training_index]\n",
    "test_data=data.iloc[test_index]"
   ]
  },
  {
   "cell_type": "code",
   "execution_count": 106,
   "metadata": {},
   "outputs": [
    {
     "data": {
      "text/html": [
       "<div>\n",
       "<style scoped>\n",
       "    .dataframe tbody tr th:only-of-type {\n",
       "        vertical-align: middle;\n",
       "    }\n",
       "\n",
       "    .dataframe tbody tr th {\n",
       "        vertical-align: top;\n",
       "    }\n",
       "\n",
       "    .dataframe thead th {\n",
       "        text-align: right;\n",
       "    }\n",
       "</style>\n",
       "<table border=\"1\" class=\"dataframe\">\n",
       "  <thead>\n",
       "    <tr style=\"text-align: right;\">\n",
       "      <th></th>\n",
       "      <th>Pregnancies</th>\n",
       "      <th>Glucose</th>\n",
       "      <th>BloodPressure</th>\n",
       "      <th>SkinThickness</th>\n",
       "      <th>Insulin</th>\n",
       "      <th>BMI</th>\n",
       "      <th>DiabetesPedigreeFunction</th>\n",
       "      <th>Age</th>\n",
       "      <th>Outcome</th>\n",
       "    </tr>\n",
       "  </thead>\n",
       "  <tbody>\n",
       "    <tr>\n",
       "      <th>83</th>\n",
       "      <td>0</td>\n",
       "      <td>101</td>\n",
       "      <td>65</td>\n",
       "      <td>28</td>\n",
       "      <td>0</td>\n",
       "      <td>24.6</td>\n",
       "      <td>0.237</td>\n",
       "      <td>22</td>\n",
       "      <td>0</td>\n",
       "    </tr>\n",
       "    <tr>\n",
       "      <th>682</th>\n",
       "      <td>0</td>\n",
       "      <td>95</td>\n",
       "      <td>64</td>\n",
       "      <td>39</td>\n",
       "      <td>105</td>\n",
       "      <td>44.6</td>\n",
       "      <td>0.366</td>\n",
       "      <td>22</td>\n",
       "      <td>0</td>\n",
       "    </tr>\n",
       "    <tr>\n",
       "      <th>250</th>\n",
       "      <td>9</td>\n",
       "      <td>106</td>\n",
       "      <td>52</td>\n",
       "      <td>0</td>\n",
       "      <td>0</td>\n",
       "      <td>31.2</td>\n",
       "      <td>0.380</td>\n",
       "      <td>42</td>\n",
       "      <td>0</td>\n",
       "    </tr>\n",
       "    <tr>\n",
       "      <th>641</th>\n",
       "      <td>4</td>\n",
       "      <td>128</td>\n",
       "      <td>70</td>\n",
       "      <td>0</td>\n",
       "      <td>0</td>\n",
       "      <td>34.3</td>\n",
       "      <td>0.303</td>\n",
       "      <td>24</td>\n",
       "      <td>0</td>\n",
       "    </tr>\n",
       "    <tr>\n",
       "      <th>454</th>\n",
       "      <td>2</td>\n",
       "      <td>100</td>\n",
       "      <td>54</td>\n",
       "      <td>28</td>\n",
       "      <td>105</td>\n",
       "      <td>37.8</td>\n",
       "      <td>0.498</td>\n",
       "      <td>24</td>\n",
       "      <td>0</td>\n",
       "    </tr>\n",
       "  </tbody>\n",
       "</table>\n",
       "</div>"
      ],
      "text/plain": [
       "     Pregnancies  Glucose  BloodPressure  SkinThickness  Insulin   BMI  \\\n",
       "83             0      101             65             28        0  24.6   \n",
       "682            0       95             64             39      105  44.6   \n",
       "250            9      106             52              0        0  31.2   \n",
       "641            4      128             70              0        0  34.3   \n",
       "454            2      100             54             28      105  37.8   \n",
       "\n",
       "     DiabetesPedigreeFunction  Age  Outcome  \n",
       "83                      0.237   22        0  \n",
       "682                     0.366   22        0  \n",
       "250                     0.380   42        0  \n",
       "641                     0.303   24        0  \n",
       "454                     0.498   24        0  "
      ]
     },
     "execution_count": 106,
     "metadata": {},
     "output_type": "execute_result"
    }
   ],
   "source": [
    "#training set after split\n",
    "training_data.head()"
   ]
  },
  {
   "cell_type": "code",
   "execution_count": 109,
   "metadata": {},
   "outputs": [
    {
     "data": {
      "text/html": [
       "<div>\n",
       "<style scoped>\n",
       "    .dataframe tbody tr th:only-of-type {\n",
       "        vertical-align: middle;\n",
       "    }\n",
       "\n",
       "    .dataframe tbody tr th {\n",
       "        vertical-align: top;\n",
       "    }\n",
       "\n",
       "    .dataframe thead th {\n",
       "        text-align: right;\n",
       "    }\n",
       "</style>\n",
       "<table border=\"1\" class=\"dataframe\">\n",
       "  <thead>\n",
       "    <tr style=\"text-align: right;\">\n",
       "      <th></th>\n",
       "      <th>Pregnancies</th>\n",
       "      <th>Glucose</th>\n",
       "      <th>BloodPressure</th>\n",
       "      <th>SkinThickness</th>\n",
       "      <th>Insulin</th>\n",
       "      <th>BMI</th>\n",
       "      <th>DiabetesPedigreeFunction</th>\n",
       "      <th>Age</th>\n",
       "      <th>Outcome</th>\n",
       "    </tr>\n",
       "  </thead>\n",
       "  <tbody>\n",
       "    <tr>\n",
       "      <th>752</th>\n",
       "      <td>3</td>\n",
       "      <td>108</td>\n",
       "      <td>62</td>\n",
       "      <td>24</td>\n",
       "      <td>0</td>\n",
       "      <td>26.0</td>\n",
       "      <td>0.223</td>\n",
       "      <td>25</td>\n",
       "      <td>0</td>\n",
       "    </tr>\n",
       "    <tr>\n",
       "      <th>198</th>\n",
       "      <td>4</td>\n",
       "      <td>109</td>\n",
       "      <td>64</td>\n",
       "      <td>44</td>\n",
       "      <td>99</td>\n",
       "      <td>34.8</td>\n",
       "      <td>0.905</td>\n",
       "      <td>26</td>\n",
       "      <td>1</td>\n",
       "    </tr>\n",
       "    <tr>\n",
       "      <th>50</th>\n",
       "      <td>1</td>\n",
       "      <td>103</td>\n",
       "      <td>80</td>\n",
       "      <td>11</td>\n",
       "      <td>82</td>\n",
       "      <td>19.4</td>\n",
       "      <td>0.491</td>\n",
       "      <td>22</td>\n",
       "      <td>0</td>\n",
       "    </tr>\n",
       "    <tr>\n",
       "      <th>279</th>\n",
       "      <td>2</td>\n",
       "      <td>108</td>\n",
       "      <td>62</td>\n",
       "      <td>10</td>\n",
       "      <td>278</td>\n",
       "      <td>25.3</td>\n",
       "      <td>0.881</td>\n",
       "      <td>22</td>\n",
       "      <td>0</td>\n",
       "    </tr>\n",
       "    <tr>\n",
       "      <th>442</th>\n",
       "      <td>4</td>\n",
       "      <td>117</td>\n",
       "      <td>64</td>\n",
       "      <td>27</td>\n",
       "      <td>120</td>\n",
       "      <td>33.2</td>\n",
       "      <td>0.230</td>\n",
       "      <td>24</td>\n",
       "      <td>0</td>\n",
       "    </tr>\n",
       "  </tbody>\n",
       "</table>\n",
       "</div>"
      ],
      "text/plain": [
       "     Pregnancies  Glucose  BloodPressure  SkinThickness  Insulin   BMI  \\\n",
       "752            3      108             62             24        0  26.0   \n",
       "198            4      109             64             44       99  34.8   \n",
       "50             1      103             80             11       82  19.4   \n",
       "279            2      108             62             10      278  25.3   \n",
       "442            4      117             64             27      120  33.2   \n",
       "\n",
       "     DiabetesPedigreeFunction  Age  Outcome  \n",
       "752                     0.223   25        0  \n",
       "198                     0.905   26        1  \n",
       "50                      0.491   22        0  \n",
       "279                     0.881   22        0  \n",
       "442                     0.230   24        0  "
      ]
     },
     "execution_count": 109,
     "metadata": {},
     "output_type": "execute_result"
    }
   ],
   "source": [
    "#test set after split\n",
    "test_data.head()"
   ]
  },
  {
   "cell_type": "code",
   "execution_count": 112,
   "metadata": {},
   "outputs": [
    {
     "name": "stdout",
     "output_type": "stream",
     "text": [
      "[[3.00e+00 1.11e+02 9.00e+01 ... 2.84e+01 4.95e-01 2.90e+01]\n",
      " [1.00e+01 1.08e+02 6.60e+01 ... 3.24e+01 2.72e-01 4.20e+01]\n",
      " [2.00e+00 1.97e+02 7.00e+01 ... 3.05e+01 1.58e-01 5.30e+01]\n",
      " ...\n",
      " [1.00e+00 8.80e+01 6.20e+01 ... 2.99e+01 4.22e-01 2.30e+01]\n",
      " [2.00e+00 1.00e+02 7.00e+01 ... 4.05e+01 6.77e-01 2.50e+01]\n",
      " [0.00e+00 9.80e+01 8.20e+01 ... 2.52e+01 2.99e-01 2.20e+01]]\n"
     ]
    }
   ],
   "source": [
    "#d.\n",
    "from sklearn.model_selection import train_test_split\n",
    "arr=data.values\n",
    "X=arr[:,0:8]\n",
    "Y=arr[:,8]\n",
    "X_train,X_test,y_train,y_test=train_test_split(X,Y,test_size=0.2)\n",
    "print(X_test)"
   ]
  },
  {
   "cell_type": "code",
   "execution_count": 113,
   "metadata": {},
   "outputs": [],
   "source": [
    "#e.\n",
    "\n",
    "from sklearn.preprocessing import StandardScaler\n",
    "scaler=StandardScaler().fit(X_train)\n",
    "X_train=scaler.transform(X_train)\n",
    "X_test=scaler.transform(X_test)"
   ]
  },
  {
   "cell_type": "code",
   "execution_count": 117,
   "metadata": {},
   "outputs": [
    {
     "data": {
      "text/plain": [
       "KNeighborsClassifier()"
      ]
     },
     "execution_count": 117,
     "metadata": {},
     "output_type": "execute_result"
    }
   ],
   "source": [
    "#f.\n",
    "\n",
    "from sklearn.neighbors import KNeighborsClassifier\n",
    "classifier=KNeighborsClassifier(n_neighbors=5)\n",
    "classifier.fit(X_train,y_train)"
   ]
  },
  {
   "cell_type": "code",
   "execution_count": 118,
   "metadata": {},
   "outputs": [],
   "source": [
    "y_pred=classifier.predict(X_test)"
   ]
  },
  {
   "cell_type": "code",
   "execution_count": 119,
   "metadata": {},
   "outputs": [
    {
     "name": "stdout",
     "output_type": "stream",
     "text": [
      "[0. 0. 1. 0. 0. 0. 0. 0. 0. 1. 0. 0. 0. 0. 0. 1. 0. 0. 0. 1. 0. 0. 0. 0.\n",
      " 0. 1. 1. 1. 0. 1. 0. 1. 0. 0. 0. 0. 0. 0. 0. 0. 0. 0. 0. 0. 0. 0. 0. 0.\n",
      " 1. 1. 0. 0. 0. 1. 0. 0. 0. 0. 0. 0. 0. 0. 1. 1. 0. 0. 0. 0. 0. 0. 0. 0.\n",
      " 0. 0. 1. 1. 1. 0. 0. 0. 0. 1. 0. 0. 0. 0. 0. 0. 1. 0. 1. 0. 0. 0. 0. 0.\n",
      " 0. 0. 0. 0. 0. 0. 1. 1. 0. 0. 1. 0. 1. 0. 0. 0. 0. 0. 0. 1. 0. 0. 0. 0.\n",
      " 0. 0. 0. 0. 1. 0. 1. 0. 0. 0. 0. 0. 0. 0. 0. 0. 1. 1. 0. 1. 0. 0. 1. 0.\n",
      " 0. 0. 1. 0. 0. 0. 0. 0. 0. 0.]\n"
     ]
    }
   ],
   "source": [
    "print(y_pred)"
   ]
  },
  {
   "cell_type": "code",
   "execution_count": 144,
   "metadata": {},
   "outputs": [
    {
     "name": "stdout",
     "output_type": "stream",
     "text": [
      "confusion matrix: \n",
      " [[99  8]\n",
      " [23 24]]\n",
      "\n",
      "\n",
      "classification report: \n",
      "               precision    recall  f1-score   support\n",
      "\n",
      "         0.0       0.81      0.93      0.86       107\n",
      "         1.0       0.75      0.51      0.61        47\n",
      "\n",
      "    accuracy                           0.80       154\n",
      "   macro avg       0.78      0.72      0.74       154\n",
      "weighted avg       0.79      0.80      0.79       154\n",
      "\n"
     ]
    }
   ],
   "source": [
    "#g.\n",
    "\n",
    "from sklearn.metrics import classification_report, confusion_matrix\n",
    "cm=confusion_matrix(y_test,y_pred)\n",
    "print(\"confusion matrix: \\n\",cm)\n",
    "print(\"\\n\")\n",
    "print(\"classification report: \\n\",classification_report(y_test,y_pred))"
   ]
  },
  {
   "cell_type": "code",
   "execution_count": 146,
   "metadata": {},
   "outputs": [
    {
     "name": "stdout",
     "output_type": "stream",
     "text": [
      "total number of correct predictions: \n",
      "  123  /  154\n"
     ]
    }
   ],
   "source": [
    "#h.\n",
    "print(\"total number of correct predictions: \\n \",cm[0][0]+cm[1][1],\" / \",np.sum(cm))"
   ]
  },
  {
   "cell_type": "code",
   "execution_count": 147,
   "metadata": {},
   "outputs": [],
   "source": [
    "#i.\n",
    "def acc_func(cm):\n",
    "    return (cm[0][0]+cm[1][1])/(np.sum(cm))\n",
    "\n",
    "def KNN(k,X_train,X_test,y_train,y_test):\n",
    "    classifier=KNeighborsClassifier(n_neighbors=k)\n",
    "    classifier.fit(X_train,y_train)\n",
    "    y_pred=classifier.predict(X_test)\n",
    "    cm=confusion_matrix(y_test,y_pred)\n",
    "    return acc_func(cm)"
   ]
  },
  {
   "cell_type": "code",
   "execution_count": 169,
   "metadata": {},
   "outputs": [
    {
     "name": "stdout",
     "output_type": "stream",
     "text": [
      "1 0.7597402597402597\n",
      "2 0.7597402597402597\n",
      "3 0.7792207792207793\n",
      "4 0.7727272727272727\n",
      "5 0.7987012987012987\n",
      "6 0.7987012987012987\n",
      "7 0.7922077922077922\n",
      "8 0.7727272727272727\n",
      "9 0.7857142857142857\n",
      "10 0.7792207792207793\n"
     ]
    }
   ],
   "source": [
    "#i.\n",
    "k=[1,2,3,4,5,6,7,8,9,10]\n",
    "k_accuracy=[]\n",
    "for i in k:\n",
    "    accuracy=KNN(i,X_train,X_test,y_train,y_test)\n",
    "    print(i,accuracy)\n",
    "    k_accuracy.append(accuracy)"
   ]
  },
  {
   "cell_type": "code",
   "execution_count": 170,
   "metadata": {},
   "outputs": [
    {
     "data": {
      "image/png": "[encoded data removed]",
      "text/plain": [
       "<Figure size 432x288 with 1 Axes>"
      ]
     },
     "metadata": {
      "needs_background": "light"
     },
     "output_type": "display_data"
    }
   ],
   "source": [
    "#i. Graph for different values of K:\n",
    "plt.plot(k,k_accuracy)\n",
    "plt.xlabel('K value')\n",
    "plt.ylabel('Accuracy')\n",
    "plt.show()"
   ]
  }
 ],
 "metadata": {
  "kernelspec": {
   "display_name": "Python 3",
   "language": "python",
   "name": "python3"
  },
  "language_info": {
   "codemirror_mode": {
    "name": "ipython",
    "version": 3
   },
   "file_extension": ".py",
   "mimetype": "text/x-python",
   "name": "python",
   "nbconvert_exporter": "python",
   "pygments_lexer": "ipython3",
   "version": "3.8.0"
  }
 },
 "nbformat": 4,
 "nbformat_minor": 2
}
